{
 "cells": [
  {
   "cell_type": "code",
   "execution_count": null,
   "id": "31c38d04-adb8-42a6-8217-9e5990387358",
   "metadata": {},
   "outputs": [],
   "source": [
    "import nfl_data_py as nfl\n",
    "import pandas as pd\n",
    "import numpy as np"
   ]
  },
  {
   "cell_type": "code",
   "execution_count": null,
   "id": "cb6200a3-c9dc-4257-b8d4-d2269b60a2ca",
   "metadata": {},
   "outputs": [],
   "source": [
    "# pd.set_option('display.width', None)\n",
    "pd.set_option('display.max_colwidth', None)"
   ]
  },
  {
   "cell_type": "code",
   "execution_count": null,
   "id": "2e4c03b7-e1ce-4e98-a816-7fbcb5610fdf",
   "metadata": {},
   "outputs": [],
   "source": [
    "df = nfl.import_pbp_data([2024])\n",
    "df"
   ]
  },
  {
   "cell_type": "code",
   "execution_count": null,
   "id": "0d1853a2-54bc-4106-aece-cc41492cb1ae",
   "metadata": {},
   "outputs": [],
   "source": [
    "game = df.loc[df['game_id']==\"2024_21_WAS_PHI\"].copy()\n",
    "# game.drop(game[game['posteam'].isna()].index, inplace=True)\n",
    "# game.drop(game[game['epa'].isna()].index, inplace=True)\n",
    "columns = ['posteam','time','qtr','down','ydstogo','yrdln','play_type','desc','ep','epa','total_home_epa','total_away_epa']\n",
    "game[columns]"
   ]
  },
  {
   "cell_type": "code",
   "execution_count": null,
   "id": "4fafe2ad-4b5c-4852-90f3-35cafe202f3f",
   "metadata": {},
   "outputs": [],
   "source": [
    "game.loc[game['play_type']=='extra_point', columns]"
   ]
  },
  {
   "cell_type": "code",
   "execution_count": null,
   "id": "97459304-9036-4b31-bd7b-d0e3de631c07",
   "metadata": {},
   "outputs": [],
   "source": [
    "def game_epa(game, penalties=False):\n",
    "    # remove posteam None, epa NaN. should catch start, end, timeouts\n",
    "    game.drop(game[game['posteam'].isna()].index, inplace=True)\n",
    "    game.drop(game[game['epa'].isna()].index, inplace=True)\n",
    "\n",
    "    # we can't really properly measure impact of penalties, because we can't calculate expected points of the counterfactual\n",
    "    # so let's just try removing plays with penalties for now. they are a part of a team's skill, so we can try adding them back in later\n",
    "    # actually let's make it an arg\n",
    "    if not penalties:\n",
    "        game.drop(game[game['penalty']==1].index, inplace=True)\n",
    "\n",
    "    home_team = game['home_team'].values[0]\n",
    "    away_team = game['away_team'].values[0]\n",
    "\n",
    "    df = game.groupby(['posteam', 'play_type']).agg({'epa': sum})\n",
    "    home_epa = df.loc[home_team].sub(df.loc[away_team], fill_value=0) # .sub is like subtracting, but with the option to fill missing data needed for alignment between the data frames before computation\n",
    "    home_epa.rename(columns={'epa': home_team}, inplace=True)\n",
    "    away_epa = df.loc[away_team].sub(df.loc[home_team], fill_value=0)\n",
    "    away_epa.rename(columns={'epa': away_team}, inplace=True)\n",
    "    epa = pd.concat([home_epa, away_epa], axis=1) # figure out how to use keys, names, levels to get the naming correct. epa at the top of the hierarchy, then team names for the ind. columns. instead of the renaming\n",
    "\n",
    "    return(epa)    "
   ]
  },
  {
   "cell_type": "code",
   "execution_count": null,
   "id": "33d97fca-3968-464c-a23e-0f5dd521b33a",
   "metadata": {},
   "outputs": [],
   "source": [
    "epa = game_epa(game)\n",
    "epa"
   ]
  },
  {
   "cell_type": "code",
   "execution_count": null,
   "id": "46d45e92-e994-4e11-9f6e-941c8d597ed2",
   "metadata": {},
   "outputs": [],
   "source": [
    "epa['PHI'].sum()"
   ]
  },
  {
   "cell_type": "code",
   "execution_count": null,
   "id": "0e0e9b3e-30f2-4ae9-9528-c5fc2a83c268",
   "metadata": {},
   "outputs": [],
   "source": [
    "epa['WAS'].sum()"
   ]
  },
  {
   "cell_type": "code",
   "execution_count": null,
   "id": "49d04c90-9fee-4159-9261-61087fb04899",
   "metadata": {},
   "outputs": [],
   "source": [
    "# this is a test. but what is this?"
   ]
  }
 ],
 "metadata": {
  "kernelspec": {
   "display_name": "Python 3 (ipykernel)",
   "language": "python",
   "name": "python3"
  },
  "language_info": {
   "codemirror_mode": {
    "name": "ipython",
    "version": 3
   },
   "file_extension": ".py",
   "mimetype": "text/x-python",
   "name": "python",
   "nbconvert_exporter": "python",
   "pygments_lexer": "ipython3",
   "version": "3.12.1"
  }
 },
 "nbformat": 4,
 "nbformat_minor": 5
}
