{
 "cells": [
  {
   "cell_type": "code",
   "execution_count": null,
   "id": "31c38d04-adb8-42a6-8217-9e5990387358",
   "metadata": {},
   "outputs": [],
   "source": [
    "import nfl_data_py as nfl\n",
    "import pandas as pd\n",
    "import numpy as np"
   ]
  },
  {
   "cell_type": "code",
   "execution_count": null,
   "id": "cb6200a3-c9dc-4257-b8d4-d2269b60a2ca",
   "metadata": {},
   "outputs": [],
   "source": [
    "# pd.set_option('display.width', None)\n",
    "pd.set_option('display.max_colwidth', None)"
   ]
  },
  {
   "cell_type": "code",
   "execution_count": null,
   "id": "2e4c03b7-e1ce-4e98-a816-7fbcb5610fdf",
   "metadata": {},
   "outputs": [],
   "source": [
    "pbp = nfl.import_pbp_data([2024])\n",
    "pbp"
   ]
  },
  {
   "cell_type": "code",
   "execution_count": null,
   "id": "0d1853a2-54bc-4106-aece-cc41492cb1ae",
   "metadata": {},
   "outputs": [],
   "source": [
    "game = pbp.loc[pbp['game_id']==\"2024_21_WAS_PHI\"].copy()\n",
    "# game.drop(game[game['posteam'].isna()].index, inplace=True)\n",
    "# game.drop(game[game['epa'].isna()].index, inplace=True)\n",
    "columns = ['posteam','time','qtr','down','ydstogo','yrdln','play_type','desc','ep','epa','total_home_epa','total_away_epa']\n",
    "game[columns]"
   ]
  },
  {
   "cell_type": "code",
   "execution_count": null,
   "id": "4fafe2ad-4b5c-4852-90f3-35cafe202f3f",
   "metadata": {},
   "outputs": [],
   "source": [
    "game.loc[game['play_type']=='extra_point', columns]"
   ]
  },
  {
   "cell_type": "code",
   "execution_count": null,
   "id": "97459304-9036-4b31-bd7b-d0e3de631c07",
   "metadata": {},
   "outputs": [],
   "source": [
    "def game_epa(game, penalties=False):\n",
    "    # remove posteam None, epa NaN. should catch start, end, timeouts\n",
    "    game.drop(game[game['posteam'].isna()].index, inplace=True)\n",
    "    game.drop(game[game['epa'].isna()].index, inplace=True)\n",
    "\n",
    "    # we can't really properly measure impact of penalties, because we can't calculate expected points of the counterfactual\n",
    "    # so let's just try removing plays with penalties for now. they are a part of a team's skill, so we can try adding them back in later\n",
    "    # actually let's make it an arg\n",
    "    if not penalties:\n",
    "        game.drop(game[game['penalty']==1].index, inplace=True)\n",
    "\n",
    "    home_team = game['home_team'].values[0]\n",
    "    away_team = game['away_team'].values[0]\n",
    "    game_id = game['game_id'].values[0]\n",
    "    game_date = game['game_date'].values[0]\n",
    "\n",
    "    df = game.groupby(['posteam', 'play_type']).agg({'epa': sum})\n",
    "\n",
    "    # the opposing team's epa during their possessions is the inverse of your defense's epa\n",
    "    home_off = pd.Series(df.loc[home_team]['epa'])\n",
    "    home_def = pd.Series(df.loc[away_team]['epa']) * -1\n",
    "    away_off = pd.Series(df.loc[away_team]['epa'])\n",
    "    away_def = pd.Series(df.loc[home_team]['epa']) * -1\n",
    "\n",
    "    index = pd.MultiIndex.from_tuples([], names=['game_id', 'team'])\n",
    "    epa = pd.DataFrame(index=index, columns=[\"game_date\", \"extra_point\", \"extra_point_def\", \"field_goal\", \"field_goal_def\", \"kickoff\", \"kickoff_def\", \"punt\", \"punt_def\", \"pass\", \"pass_def\", \"run\", \"run_def\", \"qb_kneel\", \"qb_kneel_def\"])\n",
    "\n",
    "    epa.loc[(game_id, home_team), :] = [game_date, \n",
    "                                        home_off.get('extra_point', default=0), home_def.get('extra_point', default=0),\n",
    "                                        home_off.get('field_goal', default=0), home_def.get('field_goal', default=0),\n",
    "                                        home_off.get('kickoff', default=0), home_def.get('kickoff', default=0),\n",
    "                                        home_off.get('punt', default=0), home_def.get('punt', default=0),\n",
    "                                        home_off.get('pass', default=0), home_def.get('pass', default=0),\n",
    "                                        home_off.get('run', default=0), home_def.get('run', default=0),\n",
    "                                        home_off.get('qb_kneel', default=0), home_def.get('qb_kneel', default=0)]\n",
    "    epa.loc[(game_id, away_team), :] = [game_date, \n",
    "                                        away_off.get('extra_point', default=0), away_def.get('extra_point', default=0),\n",
    "                                        away_off.get('field_goal', default=0), away_def.get('field_goal', default=0),\n",
    "                                        away_off.get('kickoff', default=0), away_def.get('kickoff', default=0),\n",
    "                                        away_off.get('punt', default=0), away_def.get('punt', default=0),\n",
    "                                        away_off.get('pass', default=0), away_def.get('pass', default=0),\n",
    "                                        away_off.get('run', default=0), away_def.get('run', default=0),\n",
    "                                        away_off.get('qb_kneel', default=0), away_def.get('qb_kneel', default=0)]\n",
    "\n",
    "    \n",
    "\n",
    "    return(epa) \n"
   ]
  },
  {
   "cell_type": "code",
   "execution_count": null,
   "id": "33d97fca-3968-464c-a23e-0f5dd521b33a",
   "metadata": {},
   "outputs": [],
   "source": [
    "epa = game_epa(game)\n",
    "epa"
   ]
  },
  {
   "cell_type": "code",
   "execution_count": null,
   "id": "e2dfb5ea-b12c-41c1-8a69-fcf1212a5331",
   "metadata": {},
   "outputs": [],
   "source": [
    "game_ids = pbp['game_id'].unique()"
   ]
  },
  {
   "cell_type": "code",
   "execution_count": null,
   "id": "ed69c0cf-ed0f-4139-8347-1431fd730428",
   "metadata": {},
   "outputs": [],
   "source": [
    "index = pd.MultiIndex.from_tuples([], names=['game_id', 'team'])\n",
    "epa = pd.DataFrame(index=index, columns=[\"game_date\", \"extra_point\", \"extra_point_def\", \"field_goal\", \"field_goal_def\", \"kickoff\", \"kickoff_def\", \"punt\", \"punt_def\", \"pass\", \"pass_def\", \"run\", \"run_def\", \"qb_kneel\", \"qb_kneel_def\"])"
   ]
  },
  {
   "cell_type": "code",
   "execution_count": null,
   "id": "e7ace7f0-c097-4bef-8d97-ab0fd85ce15e",
   "metadata": {},
   "outputs": [],
   "source": [
    "for id in game_ids:\n",
    "    game = game = pbp.loc[pbp['game_id']==id].copy()\n",
    "    epa = pd.concat([epa, game_epa(game)])    "
   ]
  },
  {
   "cell_type": "code",
   "execution_count": null,
   "id": "5d2eaccb-4254-4e92-8a36-8f0ac511efc0",
   "metadata": {},
   "outputs": [],
   "source": [
    "epa"
   ]
  }
 ],
 "metadata": {
  "kernelspec": {
   "display_name": "Python 3 (ipykernel)",
   "language": "python",
   "name": "python3"
  },
  "language_info": {
   "codemirror_mode": {
    "name": "ipython",
    "version": 3
   },
   "file_extension": ".py",
   "mimetype": "text/x-python",
   "name": "python",
   "nbconvert_exporter": "python",
   "pygments_lexer": "ipython3",
   "version": "3.12.1"
  }
 },
 "nbformat": 4,
 "nbformat_minor": 5
}
