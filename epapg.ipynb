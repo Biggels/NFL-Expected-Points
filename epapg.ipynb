{
 "cells": [
  {
   "cell_type": "code",
   "execution_count": null,
   "id": "31c38d04-adb8-42a6-8217-9e5990387358",
   "metadata": {},
   "outputs": [],
   "source": [
    "import nfl_data_py as nfl\n",
    "import pandas as pd\n",
    "import numpy as np"
   ]
  },
  {
   "cell_type": "code",
   "execution_count": null,
   "id": "cb6200a3-c9dc-4257-b8d4-d2269b60a2ca",
   "metadata": {},
   "outputs": [],
   "source": [
    "# pd.set_option('display.width', None)\n",
    "pd.set_option('display.max_colwidth', None)"
   ]
  },
  {
   "cell_type": "code",
   "execution_count": null,
   "id": "2e4c03b7-e1ce-4e98-a816-7fbcb5610fdf",
   "metadata": {},
   "outputs": [],
   "source": [
    "year = 2007\n",
    "pbp = nfl.import_pbp_data([year])"
   ]
  },
  {
   "cell_type": "code",
   "execution_count": null,
   "id": "97459304-9036-4b31-bd7b-d0e3de631c07",
   "metadata": {},
   "outputs": [],
   "source": [
    "def game_epa(game, penalties=False, weight_by_wp=True):\n",
    "    # remove posteam None, epa NaN. should catch start, end, timeouts\n",
    "    game.drop(game[game['posteam'].isna()].index, inplace=True)\n",
    "    game.drop(game[game['epa'].isna()].index, inplace=True)\n",
    "\n",
    "    # we can't really properly measure impact of penalties, because we can't calculate expected points of the counterfactual\n",
    "    # so let's just try removing plays with penalties for now. they are a part of a team's skill, so we can try adding them back in later\n",
    "    # actually let's make it an arg\n",
    "    if not penalties:\n",
    "        game.drop(game[game['penalty']==1].index, inplace=True)\n",
    "\n",
    "    home_team = game['home_team'].values[0]\n",
    "    away_team = game['away_team'].values[0]\n",
    "    game_id = game['game_id'].values[0]\n",
    "    game_date = game['game_date'].values[0]\n",
    "\n",
    "    # before doing this, we could downweight epa rows based on win prob\n",
    "    # honestly i don't think a team is going to play that differently until around 95% - which is basically equivalent to being up 2 and a bit scores in the 3rd quarter\n",
    "    # so let's do .01 .05 .95 .99, so almost everything is weighted 1, then down to .5 and .1, something like that\n",
    "    if weight_by_wp:\n",
    "        weights = pd.to_numeric(pd.cut(abs(game['wp'] - .5), bins=[0, .45, .49, .5], labels=['competitive', 'lopsided', 'over']).replace({'competitive': 1, 'lopsided': .5, 'over': .1}))\n",
    "        game['epa'] = weights * game['epa']    \n",
    "\n",
    "    df = game.groupby(['posteam', 'play_type']).agg({'epa': sum})\n",
    "\n",
    "    # the opposing team's epa during their possessions is the inverse of your defense's epa\n",
    "    home_off = pd.Series(df.loc[home_team]['epa'])\n",
    "    home_def = pd.Series(df.loc[away_team]['epa']) * -1\n",
    "    away_off = pd.Series(df.loc[away_team]['epa'])\n",
    "    away_def = pd.Series(df.loc[home_team]['epa']) * -1\n",
    "\n",
    "    columns=['game_id', 'team', \"game_date\", \"extra_point\", \"extra_point_def\", \"field_goal\", \"field_goal_def\", \"kickoff\", \"kickoff_def\", \"punt\", \"punt_def\", \"pass\", \"pass_def\", \"run\", \"run_def\", \"qb_kneel\", \"qb_kneel_def\"]\n",
    "\n",
    "    home_epa = pd.Series([game_id, home_team, game_date, \n",
    "                                        home_off.get('extra_point', default=0), home_def.get('extra_point', default=0),\n",
    "                                        home_off.get('field_goal', default=0), home_def.get('field_goal', default=0),\n",
    "                                        home_off.get('kickoff', default=0), home_def.get('kickoff', default=0),\n",
    "                                        home_off.get('punt', default=0), home_def.get('punt', default=0),\n",
    "                                        home_off.get('pass', default=0), home_def.get('pass', default=0),\n",
    "                                        home_off.get('run', default=0), home_def.get('run', default=0),\n",
    "                                        home_off.get('qb_kneel', default=0), home_def.get('qb_kneel', default=0)],\n",
    "                        index=columns)\n",
    "    away_epa = pd.Series([game_id, away_team, game_date, \n",
    "                                        away_off.get('extra_point', default=0), away_def.get('extra_point', default=0),\n",
    "                                        away_off.get('field_goal', default=0), away_def.get('field_goal', default=0),\n",
    "                                        away_off.get('kickoff', default=0), away_def.get('kickoff', default=0),\n",
    "                                        away_off.get('punt', default=0), away_def.get('punt', default=0),\n",
    "                                        away_off.get('pass', default=0), away_def.get('pass', default=0),\n",
    "                                        away_off.get('run', default=0), away_def.get('run', default=0),\n",
    "                                        away_off.get('qb_kneel', default=0), away_def.get('qb_kneel', default=0)],\n",
    "                        index=columns)\n",
    "    epa = pd.DataFrame([home_epa, away_epa])\n",
    "    \n",
    "    return(epa) \n"
   ]
  },
  {
   "cell_type": "code",
   "execution_count": null,
   "id": "e2dfb5ea-b12c-41c1-8a69-fcf1212a5331",
   "metadata": {},
   "outputs": [],
   "source": [
    "game_ids = pbp['game_id'].unique()"
   ]
  },
  {
   "cell_type": "code",
   "execution_count": null,
   "id": "ed69c0cf-ed0f-4139-8347-1431fd730428",
   "metadata": {},
   "outputs": [],
   "source": [
    "# index = pd.MultiIndex.from_tuples([], names=['game_id', 'team'])\n",
    "game_epas_raw = pd.DataFrame(columns=['game_id', 'team', \"game_date\", \"extra_point\", \"extra_point_def\", \"field_goal\", \"field_goal_def\", \"kickoff\", \"kickoff_def\", \"punt\", \"punt_def\", \"pass\", \"pass_def\", \"run\", \"run_def\", \"qb_kneel\", \"qb_kneel_def\"])"
   ]
  },
  {
   "cell_type": "code",
   "execution_count": null,
   "id": "e7ace7f0-c097-4bef-8d97-ab0fd85ce15e",
   "metadata": {},
   "outputs": [],
   "source": [
    "for id in game_ids:\n",
    "    game = pbp.loc[pbp['game_id']==id].copy()\n",
    "    game_epas_raw = pd.concat([game_epas_raw, game_epa(game)])    "
   ]
  },
  {
   "cell_type": "code",
   "execution_count": null,
   "id": "e11acaa2-db09-4284-bf4d-e76fdf1d71f8",
   "metadata": {},
   "outputs": [],
   "source": [
    "epapg_raw = game_epas_raw.drop(['game_id','game_date'], axis=1).groupby('team').agg({'mean'})\n",
    "epapg_raw.columns = [name[0] for name in epapg_raw.columns.to_flat_index()]\n",
    "epapg_raw['special_teams'] = epapg_raw['extra_point'] + epapg_raw['extra_point_def'] + epapg_raw['field_goal'] + epapg_raw['field_goal_def'] + epapg_raw['kickoff'] + epapg_raw['kickoff_def'] + epapg_raw['punt'] + epapg_raw['punt_def']\n",
    "epapg_raw['total_offense'] = epapg_raw['pass'] + epapg_raw['run']\n",
    "epapg_raw['total_defense'] = epapg_raw['pass_def'] + epapg_raw['run_def']\n",
    "epapg_raw['total'] = epapg_raw['total_offense'] + epapg_raw['total_defense'] + epapg_raw['special_teams']\n",
    "epapg_raw.sort_values(by='total', ascending=False).to_csv(f'epapg_raw_{year}.csv')"
   ]
  },
  {
   "cell_type": "code",
   "execution_count": null,
   "id": "192f57b2-e568-4280-9a0c-56690650806b",
   "metadata": {},
   "outputs": [],
   "source": [
    "# so now we take these values as our starting point, and we loop through the games again\n",
    "# but instead of just slapping the two resulting rows from the game onto the full dataframe,\n",
    "# we adjust them by the values from this epapg df.\n",
    "# instead of using pass, we use pass + opponent's average pass defense, etc.\n",
    "\n",
    "# TODO: at some point, i'd like to a do a version where we actually calculate epapg after each week, instead of using the end-of-season value, but this will do for now"
   ]
  },
  {
   "cell_type": "code",
   "execution_count": null,
   "id": "92db01f3-6221-4698-a52a-aab59ec1d4b6",
   "metadata": {},
   "outputs": [],
   "source": [
    "epapg = epapg_raw.copy()"
   ]
  },
  {
   "cell_type": "code",
   "execution_count": null,
   "id": "6ba4ed05-1d6b-43b7-93f4-1f0b90924e6c",
   "metadata": {},
   "outputs": [],
   "source": [
    "def adjust_row(r,o):\n",
    "    return pd.Series({'game_id': r['game_id'], 'team': r['team'], 'game_date': r['game_date'],\n",
    "                               'extra_point': r['extra_point'] + o['extra_point_def'], 'extra_point_def': r['extra_point_def'] + o['extra_point'],\n",
    "                               'field_goal': r['field_goal'] + o['field_goal_def'], 'field_goal_def': r['field_goal_def'] + o['field_goal'],\n",
    "                               'kickoff': r['kickoff'] + o['kickoff_def'], 'kickoff_def': r['kickoff_def'] + o['kickoff'],\n",
    "                               'punt': r['punt'] + o['punt_def'], 'punt_def': r['punt_def'] + o['punt'],\n",
    "                               'pass': r['pass'] + o['pass_def'], 'pass_def': r['pass_def'] + o['pass'],\n",
    "                               'run': r['run'] + o['run_def'], 'run_def': r['run_def'] + o['run'],\n",
    "                               'qb_kneel': r['qb_kneel'] + o['qb_kneel_def'], 'qb_kneel_def': r['qb_kneel_def'] + o['qb_kneel']})"
   ]
  },
  {
   "cell_type": "code",
   "execution_count": null,
   "id": "14348cd5-bd6f-4a0f-8016-5c53b6a7449c",
   "metadata": {},
   "outputs": [],
   "source": [
    "def adjust_game(game_id):\n",
    "    game_epa_raw = game_epas_raw.loc[game_epas_raw['game_id']==game_id]\n",
    "    (home_team, away_team) = game_epa_raw['team']\n",
    "    # r = game_epa_raw.loc[game_epa_raw['team']==home_team]\n",
    "    game_epa_adj = pd.DataFrame([adjust_row(game_epa_raw.loc[0], epapg.loc[away_team]), adjust_row(game_epa_raw.loc[1], epapg.loc[home_team])])   \n",
    "\n",
    "    return(game_epa_adj)"
   ]
  },
  {
   "cell_type": "code",
   "execution_count": null,
   "id": "c9ba623a-f413-4d9a-bae8-286794435e43",
   "metadata": {},
   "outputs": [],
   "source": [
    "i = 0\n",
    "while i < 25:\n",
    "    game_epas_adj = pd.DataFrame(columns=['game_id', 'team', \"game_date\", \"extra_point\", \"extra_point_def\", \"field_goal\", \"field_goal_def\", \"kickoff\", \"kickoff_def\", \"punt\", \"punt_def\", \"pass\", \"pass_def\", \"run\", \"run_def\", \"qb_kneel\", \"qb_kneel_def\"])\n",
    "    for id in game_ids:\n",
    "        game_epas_adj = pd.concat([game_epas_adj, adjust_game(id)])\n",
    "    epapg = game_epas_adj.drop(['game_id','game_date'], axis=1).groupby('team').agg({'mean'})\n",
    "    epapg.columns = [name[0] for name in epapg.columns.to_flat_index()]\n",
    "    epapg['special_teams'] = epapg['extra_point'] + epapg['extra_point_def'] + epapg['field_goal'] + epapg['field_goal_def'] + epapg['kickoff'] + epapg['kickoff_def'] + epapg['punt'] + epapg['punt_def']\n",
    "    epapg['total_offense'] = epapg['pass'] + epapg['run']\n",
    "    epapg['total_defense'] = epapg['pass_def'] + epapg['run_def']\n",
    "    epapg['total'] = epapg['total_offense'] + epapg['total_defense'] + epapg['special_teams']\n",
    "    i+=1"
   ]
  },
  {
   "cell_type": "code",
   "execution_count": null,
   "id": "8109a7a9-5095-43e6-baf2-96dbe8439637",
   "metadata": {},
   "outputs": [],
   "source": [
    "epapg.sort_values(by='total', ascending=False).to_csv(f'epapg_{year}.csv')"
   ]
  },
  {
   "cell_type": "code",
   "execution_count": null,
   "id": "2bf54a09-fc29-4276-9493-f63e5c916e45",
   "metadata": {},
   "outputs": [],
   "source": [
    "sos = pd.DataFrame({'epapg_adj': epapg['total'], 'epapg_raw': epapg_raw['total']})\n",
    "sos['sos'] = sos['epapg_adj'] - sos['epapg_raw']\n",
    "sos.sort_values(by='sos',ascending=False).to_csv(f'sos_{year}.csv')"
   ]
  },
  {
   "cell_type": "code",
   "execution_count": null,
   "id": "eda73ec8-cbba-4ade-8e48-5ef1ae917387",
   "metadata": {},
   "outputs": [],
   "source": [
    "from scipy.stats import norm"
   ]
  },
  {
   "cell_type": "code",
   "execution_count": null,
   "id": "250cd9ce-8e18-40c1-bdb1-e444fae07a20",
   "metadata": {},
   "outputs": [],
   "source": [
    "def win_prob(spread):\n",
    "    prob_win = 1 - norm.cdf(x=0.5, loc=spread, scale=13.45)\n",
    "    prob_tie = norm.cdf(x=0.5, loc=spread, scale=13.45) - norm.cdf(x=-0.5, loc=spread, scale=13.45)\n",
    "    return prob_win + 0.5 * prob_tie"
   ]
  },
  {
   "cell_type": "code",
   "execution_count": null,
   "id": "75c0d365-038a-4e4c-b318-f331fcd8d9da",
   "metadata": {},
   "outputs": [],
   "source": [
    "def matchup(team_a, team_b):\n",
    "    a = epapg.loc[team_a]\n",
    "    b = epapg.loc[team_b]\n",
    "    spread = a['total'] - b['total']\n",
    "    prob = win_prob(spread)\n",
    "    return spread, prob"
   ]
  }
 ],
 "metadata": {
  "kernelspec": {
   "display_name": "Python 3 (ipykernel)",
   "language": "python",
   "name": "python3"
  },
  "language_info": {
   "codemirror_mode": {
    "name": "ipython",
    "version": 3
   },
   "file_extension": ".py",
   "mimetype": "text/x-python",
   "name": "python",
   "nbconvert_exporter": "python",
   "pygments_lexer": "ipython3",
   "version": "3.12.1"
  }
 },
 "nbformat": 4,
 "nbformat_minor": 5
}
