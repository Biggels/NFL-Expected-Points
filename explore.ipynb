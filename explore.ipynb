{
 "cells": [
  {
   "cell_type": "code",
   "execution_count": null,
   "id": "15c8fc39-1fa3-4c33-bd12-c714b9464171",
   "metadata": {},
   "outputs": [],
   "source": [
    "import nfl_data_py as nfl\n",
    "import pandas as pd\n",
    "import numpy as np"
   ]
  },
  {
   "cell_type": "code",
   "execution_count": null,
   "id": "4223807c-deee-46c8-9377-6c633d9098e1",
   "metadata": {},
   "outputs": [],
   "source": [
    "# pd.set_option('display.width', None)\n",
    "pd.set_option('display.max_colwidth', None)"
   ]
  },
  {
   "cell_type": "code",
   "execution_count": null,
   "id": "cc713090-a50d-4f13-b4c9-19153aa00a4a",
   "metadata": {},
   "outputs": [],
   "source": [
    "df = nfl.import_pbp_data([2024])"
   ]
  },
  {
   "cell_type": "code",
   "execution_count": null,
   "id": "d5547ae6-3905-4ba0-a3b5-511818dae312",
   "metadata": {},
   "outputs": [],
   "source": [
    "df"
   ]
  },
  {
   "cell_type": "code",
   "execution_count": null,
   "id": "39143c1e-0f0e-4c66-b491-2228d34917ca",
   "metadata": {},
   "outputs": [],
   "source": [
    "df.loc[df.home_team=='BUF']"
   ]
  },
  {
   "cell_type": "code",
   "execution_count": null,
   "id": "5b399316-0927-4828-ae87-9645de3f82f7",
   "metadata": {},
   "outputs": [],
   "source": [
    "game = df.loc[df['game_id']==\"2024_20_BAL_BUF\"].copy()"
   ]
  },
  {
   "cell_type": "code",
   "execution_count": null,
   "id": "1ccba7f0-51ff-480a-9596-cab712fe00ac",
   "metadata": {},
   "outputs": [],
   "source": [
    "game"
   ]
  },
  {
   "cell_type": "code",
   "execution_count": null,
   "id": "e8ad079e-8238-4558-8021-fee3a9e45a06",
   "metadata": {},
   "outputs": [],
   "source": [
    "game.info()"
   ]
  },
  {
   "cell_type": "code",
   "execution_count": null,
   "id": "95de90db-273c-4166-a278-02fdb9f4c188",
   "metadata": {
    "scrolled": true
   },
   "outputs": [],
   "source": [
    "game.columns.tolist()"
   ]
  },
  {
   "cell_type": "code",
   "execution_count": null,
   "id": "06186ba5-4645-44d8-b95d-5cef16aafb8b",
   "metadata": {},
   "outputs": [],
   "source": [
    "game.tail()"
   ]
  },
  {
   "cell_type": "code",
   "execution_count": null,
   "id": "2558a34f-5838-4f0a-bb8c-ded31560780d",
   "metadata": {},
   "outputs": [],
   "source": [
    "game.loc[df.play_id==1]"
   ]
  },
  {
   "cell_type": "code",
   "execution_count": null,
   "id": "d8db582f-4b0c-4eb9-8138-f8c98cef5425",
   "metadata": {},
   "outputs": [],
   "source": [
    "game.loc[[48253,48254], ['play_id','posteam','time','down','ydstogo','yrdln','play_type','desc','ep', 'epa','total_home_epa','total_away_epa']]"
   ]
  },
  {
   "cell_type": "code",
   "execution_count": null,
   "id": "1340ab77-e253-49db-b4a6-f272055754ae",
   "metadata": {},
   "outputs": [],
   "source": [
    "game.loc[[48405], ['play_id','time','down','ydstogo','yrdln','play_type','desc','ep', 'epa','total_home_epa','total_away_epa']]"
   ]
  },
  {
   "cell_type": "code",
   "execution_count": null,
   "id": "49fbea8a-82d8-4dab-a31d-7d3988b4616d",
   "metadata": {},
   "outputs": [],
   "source": [
    "game.tail(20)['desc']"
   ]
  },
  {
   "cell_type": "code",
   "execution_count": null,
   "id": "619d39d4-3b64-4c47-9aed-8d37f9ace9cd",
   "metadata": {},
   "outputs": [],
   "source": [
    "game.loc[[48403], ['play_id','time','down','ydstogo','yrdln','play_type','desc','ep', 'epa','total_home_epa','total_away_epa']]"
   ]
  },
  {
   "cell_type": "code",
   "execution_count": null,
   "id": "03338306-1b0b-4a53-8ce8-5995d920a4de",
   "metadata": {},
   "outputs": [],
   "source": [
    "game.loc[48409, ['total_home_epa', 'total_home_score','total_away_epa', 'total_away_score']]"
   ]
  },
  {
   "cell_type": "code",
   "execution_count": null,
   "id": "9deba611-27c8-439b-895c-565792d9736a",
   "metadata": {},
   "outputs": [],
   "source": [
    "game.groupby('posteam')['epa'].agg('sum')"
   ]
  },
  {
   "cell_type": "code",
   "execution_count": null,
   "id": "7284990d-23ec-4416-acd9-6296c994728e",
   "metadata": {},
   "outputs": [],
   "source": [
    "game[['time','down','ydstogo','yrdln','posteam','epa']]"
   ]
  },
  {
   "cell_type": "code",
   "execution_count": null,
   "id": "34d43bb4-58e6-4c49-a345-c7f4c8db820b",
   "metadata": {},
   "outputs": [],
   "source": [
    "game.loc[game['posteam']=='BAL', ['time','down','ydstogo','yrdln','posteam','epa','total_home_epa']]"
   ]
  },
  {
   "cell_type": "code",
   "execution_count": null,
   "id": "f4c3431d-234e-44cf-b739-dd8d8cfc9f86",
   "metadata": {},
   "outputs": [],
   "source": [
    "game.groupby(['posteam','play_type']).agg({'epa': 'sum'})"
   ]
  },
  {
   "cell_type": "code",
   "execution_count": null,
   "id": "880e8171-aa73-4960-84d1-90dee1dee8c4",
   "metadata": {},
   "outputs": [],
   "source": [
    "game.loc[game['play_type']=='qb_kneel', ['posteam','time','qtr','down','ydstogo','yrdln','play_type','desc','ep', 'epa']]"
   ]
  },
  {
   "cell_type": "code",
   "execution_count": null,
   "id": "d85271b5-2060-451a-853f-0c5bd4cb3c58",
   "metadata": {},
   "outputs": [],
   "source": [
    "game.loc[game['play_type']=='punt', ['posteam','time','qtr','down','ydstogo','yrdln','play_type','desc','ep', 'epa']]"
   ]
  },
  {
   "cell_type": "code",
   "execution_count": null,
   "id": "4b8d057e-98bc-4833-a24c-0dbc946db001",
   "metadata": {},
   "outputs": [],
   "source": [
    "game.loc[game['drive']==4, ['posteam','time','qtr','down','ydstogo','yrdln','play_type','desc','ep','epa']]"
   ]
  },
  {
   "cell_type": "code",
   "execution_count": null,
   "id": "0a765086-b596-41b2-a01f-6e1d6b6e73ce",
   "metadata": {},
   "outputs": [],
   "source": [
    "game.groupby(['posteam', 'down']).agg({'ydstogo': 'mean'})"
   ]
  },
  {
   "cell_type": "code",
   "execution_count": null,
   "id": "4baea643-2901-47c1-b90a-6c41dd0eb577",
   "metadata": {},
   "outputs": [],
   "source": [
    "game.groupby(['posteam', 'down']).agg({'epa': 'mean'})"
   ]
  },
  {
   "cell_type": "code",
   "execution_count": null,
   "id": "a58f1302-93b1-453a-83eb-30f970cb241d",
   "metadata": {},
   "outputs": [],
   "source": [
    "game.groupby('drive').agg({'epa': 'sum'})"
   ]
  },
  {
   "cell_type": "code",
   "execution_count": null,
   "id": "bd41cc93-fa6f-4aa1-b149-3921164ac5fd",
   "metadata": {},
   "outputs": [],
   "source": [
    "game.loc[game['drive']==1, ['posteam','time','qtr','down','ydstogo','yrdln','play_type','desc','ep','epa']]"
   ]
  },
  {
   "cell_type": "code",
   "execution_count": null,
   "id": "38cd2066-17e1-447e-a6f9-b825d3157d0c",
   "metadata": {},
   "outputs": [],
   "source": [
    "game.loc[game['play_type']=='kickoff', ['posteam','time','qtr','down','ydstogo','yrdln','play_type','desc','ep','epa']]"
   ]
  },
  {
   "cell_type": "code",
   "execution_count": null,
   "id": "4c5725a1-ce28-45c5-b2c4-42578ffdec56",
   "metadata": {},
   "outputs": [],
   "source": [
    "game.loc[game['desc']=='END GAME', ['home_team','total_home_score','total_home_epa','total_home_rush_epa','total_home_pass_epa','away_team','total_away_score','total_away_epa','total_away_rush_epa','total_away_pass_epa']]"
   ]
  },
  {
   "cell_type": "code",
   "execution_count": null,
   "id": "be5deb13-1a1c-49c3-b5aa-8cd6b99dd2d7",
   "metadata": {},
   "outputs": [],
   "source": [
    "game.loc[game['play_type']=='run', ['posteam','time','qtr','down','ydstogo','yrdln','play_type','desc','ep','epa','total_home_epa','total_away_epa']]"
   ]
  },
  {
   "cell_type": "code",
   "execution_count": null,
   "id": "ebfdcd5d-9a4f-43e2-9f9b-a6e8a1710c67",
   "metadata": {},
   "outputs": [],
   "source": [
    "game.loc[game['drive']==4, ['posteam','time','qtr','down','ydstogo','yrdln','play_type','desc','ep','epa','total_home_epa','total_away_epa']]"
   ]
  },
  {
   "cell_type": "code",
   "execution_count": null,
   "id": "0d77515d-dacb-4e12-ae52-d220ffed1503",
   "metadata": {},
   "outputs": [],
   "source": [
    "# need to find drives with kickoffs and/or penalties, see if that explains the difference between summing epa and the total epa column\n",
    "# in fact, let's go through each drive one at a time to see where the divergence starts"
   ]
  },
  {
   "cell_type": "code",
   "execution_count": null,
   "id": "57750ed0-70f3-4299-9372-8b266be7d404",
   "metadata": {},
   "outputs": [],
   "source": [
    "game['drive'].describe()"
   ]
  },
  {
   "cell_type": "code",
   "execution_count": null,
   "id": "c3aed733-e3cb-4a11-bdbb-c269e7e1727f",
   "metadata": {},
   "outputs": [],
   "source": [
    "drive = game.loc[game['drive']==3, ['posteam','time','qtr','down','ydstogo','yrdln','play_type','desc','ep','epa','total_home_epa','total_away_epa']]\n",
    "drive"
   ]
  },
  {
   "cell_type": "code",
   "execution_count": null,
   "id": "ddc79fb1-09f1-4473-ac3d-9716aa66bb94",
   "metadata": {},
   "outputs": [],
   "source": [
    "drive['epa'].sum()"
   ]
  },
  {
   "cell_type": "code",
   "execution_count": null,
   "id": "1c8644e9-06d2-4c87-95a7-29b0259a5ddc",
   "metadata": {},
   "outputs": [],
   "source": [
    "drive['total_home_epa'].tail(1) - game.loc[drive.index[0]-1, 'total_home_epa']"
   ]
  },
  {
   "cell_type": "code",
   "execution_count": null,
   "id": "7a20aeaf-1d9c-4eb1-be4b-53c9f337435b",
   "metadata": {},
   "outputs": [],
   "source": [
    "# okay, they never disagree, so i must have been summing epa wrong before. let's try again."
   ]
  },
  {
   "cell_type": "code",
   "execution_count": null,
   "id": "8c15bf92-ebbf-4163-bea5-b9c42ccf5a3b",
   "metadata": {},
   "outputs": [],
   "source": [
    "game.groupby('posteam').agg({'epa': 'sum'})"
   ]
  },
  {
   "cell_type": "code",
   "execution_count": null,
   "id": "c53c0129-be93-4da0-8ee1-9b2244bc7b0e",
   "metadata": {},
   "outputs": [],
   "source": [
    "# what am i missing?"
   ]
  },
  {
   "cell_type": "code",
   "execution_count": null,
   "id": "e26d8a09-5dbd-4b2d-b145-81ee42d1e0a5",
   "metadata": {},
   "outputs": [],
   "source": [
    "for d in range(1,19):\n",
    "    drive = game.loc[game['drive']==d, ['posteam','time','qtr','down','ydstogo','yrdln','play_type','desc','ep','epa','total_home_epa','total_away_epa']]\n",
    "    print(drive['epa'].sum())"
   ]
  },
  {
   "cell_type": "code",
   "execution_count": null,
   "id": "65c31fe2-8943-4b91-b424-8ebd6cd10d3f",
   "metadata": {},
   "outputs": [],
   "source": [
    "total_epa = {\"BUF\": 0, \"BAL\": 0}\n",
    "total_epa"
   ]
  },
  {
   "cell_type": "code",
   "execution_count": null,
   "id": "be7bef7a-6e6d-46ce-9c4d-73571ed322a4",
   "metadata": {},
   "outputs": [],
   "source": [
    "for d in range(1,19):\n",
    "    drive = game.loc[game['drive']==d, ['posteam','time','qtr','down','ydstogo','yrdln','play_type','desc','ep','epa','total_home_epa','total_away_epa']]\n",
    "    total_epa[drive['posteam'].values[0]] += drive['epa'].sum()"
   ]
  },
  {
   "cell_type": "code",
   "execution_count": null,
   "id": "e1a4ea03-5543-4cda-8a17-78f958dbb852",
   "metadata": {},
   "outputs": [],
   "source": [
    "total_epa"
   ]
  },
  {
   "cell_type": "code",
   "execution_count": null,
   "id": "c2977a2d-e1c5-4447-9563-02781da8c018",
   "metadata": {},
   "outputs": [],
   "source": [
    "total_epa['BAL'] - total_epa['BUF']"
   ]
  },
  {
   "cell_type": "code",
   "execution_count": null,
   "id": "6932f2af-d77e-4d9f-bf41-fbc8afbf4350",
   "metadata": {},
   "outputs": [],
   "source": [
    "# that's the exact value of total_away_epa...."
   ]
  },
  {
   "cell_type": "code",
   "execution_count": null,
   "id": "c1508f89-1f8d-48cc-9bd0-d7d2ffcb087b",
   "metadata": {},
   "outputs": [],
   "source": [
    "game[['posteam','time','qtr','down','ydstogo','yrdln','play_type','desc','ep','epa','total_home_epa','total_away_epa']]"
   ]
  },
  {
   "cell_type": "code",
   "execution_count": null,
   "id": "6ab5491a-d779-4382-afa4-6e8b287baff8",
   "metadata": {},
   "outputs": [],
   "source": [
    "game.loc[48275:48279,['posteam','time','qtr','down','ydstogo','yrdln','play_type','desc','ep','epa','total_home_epa','total_away_epa']]"
   ]
  },
  {
   "cell_type": "code",
   "execution_count": null,
   "id": "ed2f3317-f8b9-4a86-a99b-0c4a3ad57482",
   "metadata": {},
   "outputs": [],
   "source": [
    "# i understand! each team's total epa is affected on all drives, not just ones where they're in possession.\n",
    "# so i can just do what i did before, but without doing it by drive like that."
   ]
  },
  {
   "cell_type": "code",
   "execution_count": null,
   "id": "5ebbdb0c-6398-416c-8ff0-05e150756b62",
   "metadata": {},
   "outputs": [],
   "source": []
  },
  {
   "cell_type": "code",
   "execution_count": null,
   "id": "92756c16-3d32-4503-8690-e118e9397fdd",
   "metadata": {},
   "outputs": [],
   "source": [
    "total_epa = {game['home_team'].values[0]: 0, game['away_team'].values[0]: 0}\n",
    "total_epa"
   ]
  },
  {
   "cell_type": "code",
   "execution_count": null,
   "id": "ee6445dd-b199-476c-a655-8fc5035dfb08",
   "metadata": {},
   "outputs": [],
   "source": [
    "# testing apply\n",
    "def add_epa(row):\n",
    "    posteam = row['posteam']\n",
    "    epa = row['epa']\n",
    "    if posteam:\n",
    "        total_epa[posteam] += epa\n",
    "    return(total_epa)\n",
    "\n",
    "game.apply(add_epa, axis=1)"
   ]
  },
  {
   "cell_type": "code",
   "execution_count": null,
   "id": "99111aad-fbc8-430f-aeec-7ddd8ebea9d7",
   "metadata": {},
   "outputs": [],
   "source": [
    "total_epa"
   ]
  },
  {
   "cell_type": "code",
   "execution_count": null,
   "id": "dd61789b-302a-4ec4-906b-1da8da10ff9b",
   "metadata": {},
   "outputs": [],
   "source": [
    "game.loc[game['posteam']=='BUF', ['posteam','time','qtr','down','ydstogo','yrdln','play_type','desc','ep','epa','total_home_epa','total_away_epa']]['epa']"
   ]
  },
  {
   "cell_type": "code",
   "execution_count": null,
   "id": "c44516ed-0f87-4871-9ebd-60726f1016ec",
   "metadata": {},
   "outputs": [],
   "source": [
    "game.loc[game['posteam']=='BUF', ['posteam','time','qtr','down','ydstogo','yrdln','play_type','desc','ep','epa','total_home_epa','total_away_epa']]['epa'].values[-1]"
   ]
  },
  {
   "cell_type": "code",
   "execution_count": null,
   "id": "04a01cad-475d-4d74-b9f9-9dec856012dc",
   "metadata": {},
   "outputs": [],
   "source": [
    "if game.loc[game['posteam']=='BUF', ['posteam','time','qtr','down','ydstogo','yrdln','play_type','desc','ep','epa','total_home_epa','total_away_epa']]['epa'].values[-1]:\n",
    "    print('hello')"
   ]
  },
  {
   "cell_type": "code",
   "execution_count": null,
   "id": "992825c9-ce90-4706-affb-5734a3f8fadc",
   "metadata": {},
   "outputs": [],
   "source": [
    "game.loc[game['posteam']=='BUF', ['posteam','time','qtr','down','ydstogo','yrdln','play_type','desc','ep','epa','total_home_epa','total_away_epa']]['epa'].values[-1] == game.loc[game['posteam']=='BUF', ['posteam','time','qtr','down','ydstogo','yrdln','play_type','desc','ep','epa','total_home_epa','total_away_epa']]['epa'].values[-1]"
   ]
  },
  {
   "cell_type": "code",
   "execution_count": null,
   "id": "ac5af163-51a2-4d27-9dc9-2b378195aabf",
   "metadata": {},
   "outputs": [],
   "source": [
    "total_epa = {game['home_team'].values[0]: 0, game['away_team'].values[0]: 0}\n",
    "total_epa"
   ]
  },
  {
   "cell_type": "code",
   "execution_count": null,
   "id": "21ae28a3-8682-4add-b784-aa4f048bb934",
   "metadata": {},
   "outputs": [],
   "source": [
    "def add_epa(row):\n",
    "    posteam = row['posteam']\n",
    "    defteam = row['defteam']\n",
    "    epa = row['epa']\n",
    "    if posteam and epa==epa:\n",
    "        total_epa[posteam] += epa\n",
    "        total_epa[defteam] -= epa\n",
    "    return(total_epa)\n",
    "\n",
    "game.apply(add_epa, axis=1)"
   ]
  },
  {
   "cell_type": "code",
   "execution_count": null,
   "id": "b659024e-86e5-4e15-be88-3b580ef69f66",
   "metadata": {},
   "outputs": [],
   "source": [
    "total_epa"
   ]
  },
  {
   "cell_type": "code",
   "execution_count": null,
   "id": "c726857e-9099-48ec-9b98-bb37c6e4e2d1",
   "metadata": {},
   "outputs": [],
   "source": [
    "# now let's try a better version of that, hopefully without apply"
   ]
  },
  {
   "cell_type": "code",
   "execution_count": null,
   "id": "fa6fd3b9-c6a4-4750-9ba5-54795408f730",
   "metadata": {},
   "outputs": [],
   "source": [
    "game.drop(game[game['posteam'].isna()].index, inplace=True)\n",
    "game[game['posteam'].isna()]"
   ]
  },
  {
   "cell_type": "code",
   "execution_count": null,
   "id": "2ab6b066-ed94-46f6-bb1c-d6fb82cc7d60",
   "metadata": {},
   "outputs": [],
   "source": [
    "game.drop(game[game['epa'].isna()].index, inplace=True)\n",
    "game[game['epa'].isna()]"
   ]
  },
  {
   "cell_type": "code",
   "execution_count": null,
   "id": "ab9541f5-6ae1-4808-8a78-ae9b6a0accd5",
   "metadata": {},
   "outputs": [],
   "source": [
    "game['home_epa'] = np.where(game['posteam']==game['home_team'], game['epa'], -1*game['epa'])"
   ]
  },
  {
   "cell_type": "code",
   "execution_count": null,
   "id": "240b55fc-7e43-4931-99e8-417d0ad78bac",
   "metadata": {},
   "outputs": [],
   "source": [
    "game[['home_epa', 'epa']]"
   ]
  },
  {
   "cell_type": "code",
   "execution_count": null,
   "id": "1d858589-260c-46bc-b980-5dc4ac92a650",
   "metadata": {},
   "outputs": [],
   "source": [
    "game['away_epa'] = np.where(game['posteam']==game['away_team'], game['epa'], -1*game['epa'])"
   ]
  },
  {
   "cell_type": "code",
   "execution_count": null,
   "id": "b32f5297-04bb-4ebe-a578-8c537c13518e",
   "metadata": {},
   "outputs": [],
   "source": [
    "game[['away_epa','epa']]"
   ]
  },
  {
   "cell_type": "code",
   "execution_count": null,
   "id": "eb3f025e-f4b0-401a-a86a-57d86e835f77",
   "metadata": {},
   "outputs": [],
   "source": [
    "game['my_total_home_epa'] = game['home_epa'].cumsum()"
   ]
  },
  {
   "cell_type": "code",
   "execution_count": null,
   "id": "41710f7d-334d-46cd-8fcd-63ca547ec3b2",
   "metadata": {},
   "outputs": [],
   "source": [
    "game[['my_total_home_epa', 'total_home_epa']]"
   ]
  },
  {
   "cell_type": "code",
   "execution_count": null,
   "id": "6376b99c-6ba9-4a3d-b2e6-4110a09769c3",
   "metadata": {},
   "outputs": [],
   "source": [
    "game['my_total_away_epa'] = game['away_epa'].cumsum()"
   ]
  },
  {
   "cell_type": "code",
   "execution_count": null,
   "id": "8760831d-4dd8-42fc-b4e4-7e737f3d3f16",
   "metadata": {},
   "outputs": [],
   "source": [
    "game[['my_total_away_epa', 'total_away_epa']]"
   ]
  },
  {
   "cell_type": "code",
   "execution_count": null,
   "id": "fe240ac2-c075-441b-8cc9-4c55f7251f61",
   "metadata": {},
   "outputs": [],
   "source": [
    "game['my_total_home_epa'] == game['total_home_epa']"
   ]
  },
  {
   "cell_type": "code",
   "execution_count": null,
   "id": "6509679f-e750-414d-810f-f3ff9cd45f16",
   "metadata": {},
   "outputs": [],
   "source": [
    "# must be tiny rounding errors. good enough for me!"
   ]
  },
  {
   "cell_type": "code",
   "execution_count": null,
   "id": "59cfc089-b12c-4495-b725-18a22b07a7d6",
   "metadata": {},
   "outputs": [],
   "source": [
    "# and now i actually understand why the diff of the original sum seemed to give the actual total\n",
    "# sum of all one teams poss' epa - the sum of the epa of their opp on the other poss. seems obvious now lol"
   ]
  },
  {
   "cell_type": "code",
   "execution_count": null,
   "id": "fa60fda9-05fd-4376-b886-c15b490bf48a",
   "metadata": {},
   "outputs": [],
   "source": [
    "# so really i can do the original groupby instead of messing with all these excess columns"
   ]
  },
  {
   "cell_type": "code",
   "execution_count": null,
   "id": "328fba36-0076-406f-b91d-b7370bddd33e",
   "metadata": {},
   "outputs": [],
   "source": [
    "grouped_epa = game.groupby('posteam').agg({'epa': 'sum'})\n",
    "grouped_epa"
   ]
  },
  {
   "cell_type": "code",
   "execution_count": null,
   "id": "9df29d50-3ebe-48f9-a94a-9dd069dd47cb",
   "metadata": {},
   "outputs": [],
   "source": [
    "home_poss_epa = grouped_epa.loc[game['home_team'].values[0]].values[0]\n",
    "home_poss_epa"
   ]
  },
  {
   "cell_type": "code",
   "execution_count": null,
   "id": "0c1aa6e4-2ff8-449b-a04b-5f4bab7aaa2d",
   "metadata": {},
   "outputs": [],
   "source": [
    "away_poss_epa = grouped_epa.loc[game['away_team'].values[0]].values[0]\n",
    "away_poss_epa"
   ]
  },
  {
   "cell_type": "code",
   "execution_count": null,
   "id": "381a0b3b-df88-46c1-b69d-6e6790dda7d9",
   "metadata": {},
   "outputs": [],
   "source": [
    "home_epa = home_poss_epa - away_poss_epa\n",
    "home_epa"
   ]
  },
  {
   "cell_type": "code",
   "execution_count": null,
   "id": "006579c1-32fc-45c9-ba7c-f1bf57c8d261",
   "metadata": {},
   "outputs": [],
   "source": [
    "away_epa = away_poss_epa - home_poss_epa\n",
    "away_epa"
   ]
  },
  {
   "cell_type": "code",
   "execution_count": null,
   "id": "f4ff407d-0637-40be-a08c-70400ac708c8",
   "metadata": {},
   "outputs": [],
   "source": [
    "# once i confirm my own total epa calculations, i can confirm the rush and pass ones\n",
    "# then i can ignore certain plays, like qb_kneel, and calculate special teams and penalties epa, etc."
   ]
  },
  {
   "cell_type": "code",
   "execution_count": null,
   "id": "5a23b015-88d0-437f-8dad-f5ff0d0bfcd0",
   "metadata": {},
   "outputs": [],
   "source": [
    "# once i've confirmed all that, let's create a new notebook dedicated to just that, with a function that spits out the final values of all those columns for each game\n",
    "# then we can iterate over all the games and use that function, and have a dictionary of each team's epa for each game"
   ]
  }
 ],
 "metadata": {
  "kernelspec": {
   "display_name": "Python 3 (ipykernel)",
   "language": "python",
   "name": "python3"
  },
  "language_info": {
   "codemirror_mode": {
    "name": "ipython",
    "version": 3
   },
   "file_extension": ".py",
   "mimetype": "text/x-python",
   "name": "python",
   "nbconvert_exporter": "python",
   "pygments_lexer": "ipython3",
   "version": "3.12.1"
  }
 },
 "nbformat": 4,
 "nbformat_minor": 5
}
